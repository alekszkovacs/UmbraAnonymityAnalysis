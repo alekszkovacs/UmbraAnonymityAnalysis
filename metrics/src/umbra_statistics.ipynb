{
 "cells": [
  {
   "cell_type": "code",
   "execution_count": 3,
   "id": "c2d64e62",
   "metadata": {},
   "outputs": [],
   "source": [
    "import numpy as np\n",
    "import pandas as pd\n",
    "from matplotlib import pyplot as plt\n",
    "import json\n",
    "\n",
    "%matplotlib inline"
   ]
  },
  {
   "cell_type": "code",
   "execution_count": 7,
   "id": "4ca3479f",
   "metadata": {},
   "outputs": [],
   "source": [
    "with open(\"../../data/umbra_contract_txs.json\", \"r\") as file:\n",
    "    contract_txs = json.load(file)[\"result\"] #all the transactions' details related to the umbra contract"
   ]
  },
  {
   "cell_type": "code",
   "execution_count": 27,
   "id": "8217f473",
   "metadata": {},
   "outputs": [
    {
     "data": {
      "image/png": "[encoded data removed]",
      "text/plain": [
       "<Figure size 640x480 with 1 Axes>"
      ]
     },
     "metadata": {},
     "output_type": "display_data"
    }
   ],
   "source": [
    "txs_to_contract = []\n",
    "\n",
    "for c in contract_txs:\n",
    "    txs_to_contract.append(c[\"from\"])\n",
    "\n",
    "adresses_of_txs_to_contract_series = pd.Series(txs_to_contract, name=\"Txs count grouped by addressess\")\n",
    "adresses_of_txs_to_contract_count = adresses_of_txs_to_contract_series.value_counts()\n",
    "df = pd.DataFrame({\"Address\": adresses_of_txs_to_contract_count.index, \"Count\": adresses_of_txs_to_contract_count.values})\n",
    "\n",
    "plt.hist(adresses_of_txs_to_contract_count.values,bins=100)\n",
    "plt.ylabel('Sender addresses')\n",
    "plt.xlabel('Umbra transactions')\n",
    "plt.yscale(\"log\")\n",
    "#print(mean(adresses_of_txs_to_contract_count.values))"
   ]
  },
  {
   "cell_type": "code",
   "execution_count": null,
   "id": "568697ec",
   "metadata": {},
   "outputs": [],
   "source": [
    "#df.plot.axes.get_xaxis().set_visible(False)\n",
    "# ax = df.plot.bar(rot=0, figsize=(20,10))\n",
    "# ax.set(xticklabels=[])\n",
    "# plt.yscale('log')\n",
    "# plt.show()"
   ]
  },
  {
   "cell_type": "code",
   "execution_count": 17,
   "id": "20e35659",
   "metadata": {},
   "outputs": [
    {
     "name": "stdout",
     "output_type": "stream",
     "text": [
      "6256\n"
     ]
    },
    {
     "data": {
      "image/png": "[encoded data removed]",
      "text/plain": [
       "<Figure size 640x480 with 1 Axes>"
      ]
     },
     "metadata": {},
     "output_type": "display_data"
    }
   ],
   "source": [
    "amounts = []\n",
    "\n",
    "for d in contract_txs:\n",
    "    if d[\"functionName\"] == \"sendEth(address _receiver, uint256 _tollCommitment, bytes32 _pkx, bytes32 _ciphertext)\":\n",
    "        amounts.append(int(d[\"value\"])/pow(10, 18))\n",
    "\n",
    "print(len(amounts))\n",
    "\n",
    "amounts = pd.Series(amounts, name=\"Wei amounts\")\n",
    "amounts_count = amounts.value_counts()\n",
    "df = pd.DataFrame({\"Value\": amounts_count.index, \"Count\": amounts_count.values})\n",
    "\n",
    "plt.hist(amounts_count.values,bins=200)\n",
    "plt.ylabel('Count')\n",
    "plt.xlabel('Value')\n",
    "plt.yscale(\"log\")\n",
    "plt.xscale(\"log\")"
   ]
  },
  {
   "cell_type": "code",
   "execution_count": 8,
   "id": "be5160a0",
   "metadata": {},
   "outputs": [],
   "source": [
    "from web3 import Web3\n",
    "from ens import ENS\n",
    "from ens import exceptions\n",
    "from dotenv import load_dotenv\n",
    "\n",
    "load_dotenv()\n",
    "ETHERSCAN_API_KEY = os.environ[\"ETHERSCAN_API_KEY\"]\n",
    "WEB3_WEBSOCKET_PROVIDER = os.environ[\"WEB3_WEBSOCKET_PROVIDER\"]\n",
    "\n",
    "w3 = Web3(Web3.WebsocketProvider(WEB3_WEBSOCKET_PROVIDER))\n",
    "ns = ENS.fromWeb3(w3)"
   ]
  },
  {
   "cell_type": "code",
   "execution_count": 18,
   "id": "a300f6eb",
   "metadata": {},
   "outputs": [
    {
     "ename": "KeyError",
     "evalue": "'sendEth(address _receiver, uint256 _tollCommitment, bytes32 _pkx, bytes32 _ciphertext)'",
     "output_type": "error",
     "traceback": [
      "\u001b[1;31m---------------------------------------------------------------------------\u001b[0m",
      "\u001b[1;31mKeyError\u001b[0m                                  Traceback (most recent call last)",
      "Cell \u001b[1;32mIn [18], line 16\u001b[0m\n\u001b[0;32m     14\u001b[0m n\u001b[39m+\u001b[39m\u001b[39m=\u001b[39m\u001b[39m1\u001b[39m\n\u001b[0;32m     15\u001b[0m \u001b[39mif\u001b[39;00m d[\u001b[39m\"\u001b[39m\u001b[39mfunctionName\u001b[39m\u001b[39m\"\u001b[39m] \u001b[39m==\u001b[39m \u001b[39m\"\u001b[39m\u001b[39msendEth(address _receiver, uint256 _tollCommitment, bytes32 _pkx, bytes32 _ciphertext)\u001b[39m\u001b[39m\"\u001b[39m:\n\u001b[1;32m---> 16\u001b[0m     k \u001b[39m=\u001b[39m d[d[\u001b[39m\"\u001b[39;49m\u001b[39mfunctionName\u001b[39;49m\u001b[39m\"\u001b[39;49m]][\u001b[39m\"\u001b[39m\u001b[39m_receiver\u001b[39m\u001b[39m\"\u001b[39m]\n\u001b[0;32m     17\u001b[0m     \u001b[39mfor\u001b[39;00m tx \u001b[39min\u001b[39;00m d[d[\u001b[39m\"\u001b[39m\u001b[39mfunctionName\u001b[39m\u001b[39m\"\u001b[39m]][k]:\n\u001b[0;32m     18\u001b[0m         \u001b[39mif\u001b[39;00m d[\u001b[39m\"\u001b[39m\u001b[39mfrom\u001b[39m\u001b[39m\"\u001b[39m] \u001b[39m==\u001b[39m tx[\u001b[39m\"\u001b[39m\u001b[39mto\u001b[39m\u001b[39m\"\u001b[39m]:\n",
      "\u001b[1;31mKeyError\u001b[0m: 'sendEth(address _receiver, uint256 _tollCommitment, bytes32 _pkx, bytes32 _ciphertext)'"
     ]
    }
   ],
   "source": [
    "# When the sender address of the eth is the same as the final receiver\n",
    "import sys\n",
    "sys.path.append('../../src/')\n",
    "from get_ens_name import get_ens_name\n",
    "\n",
    "ens_database = \"../../data/ens_database.json\"\n",
    "\n",
    "with open(ens_database, \"r\") as file:\n",
    "    ens_db = json.load(file)\n",
    "\n",
    "chain = []\n",
    "n = 0\n",
    "for d in contract_txs:\n",
    "    n+=1\n",
    "    if d[\"functionName\"] == \"sendEth(address _receiver, uint256 _tollCommitment, bytes32 _pkx, bytes32 _ciphertext)\":\n",
    "        k = d[d[\"functionName\"]][\"_receiver\"]\n",
    "        for tx in d[d[\"functionName\"]][k]:\n",
    "            if d[\"from\"] == tx[\"to\"]:\n",
    "                chain.append({\"tx\": d[\"hash\"], \"address\": d[\"from\"]})\n",
    "    elif d[\"functionName\"] == \"withdrawTokenOnBehalf(address _stealthAddr, address _acceptor, address _tokenAddr, address _sponsor, uint256 _sponsorFee, uint8 _v, bytes32 _r, bytes32 _s)\":\n",
    "        if d[\"from\"] == d[d[\"functionName\"]][\"_acceptor\"]:\n",
    "            chain.append({\"tx\": d[\"hash\"], \"address\": d[\"from\"]})\n",
    "\n",
    "n = 0\n",
    "for d in chain:\n",
    "    n+=1\n",
    "    try:\n",
    "        get_ens_name(d, \"address\", \"ens\", ns, ens_db)\n",
    "    except exceptions.InvalidName as err:\n",
    "        print(f\"Error occured at the {n}th item: {err}\\nContinuing the process...\")\n",
    "\n",
    "with open(ens_database, \"w\") as file:\n",
    "    json.dump(ens_db, file)\n",
    "\n",
    "with open(\"../same_sender_receiver.json\", \"w\") as file:\n",
    "    json.dump(chain, file)\n",
    "\n",
    "with open(\"../same_sender_receiver_ens.json\", \"w\") as file:\n",
    "    json.dump(list(filter(lambda i: \"ens\" in i, chain)), file)"
   ]
  },
  {
   "cell_type": "code",
   "execution_count": null,
   "id": "2276fe49",
   "metadata": {},
   "outputs": [],
   "source": [
    "# When the receiver address of the eth has an address which has communicated with stealth registry\n",
    "import sys\n",
    "sys.path.append('../../src/')\n",
    "from get_ens_name import get_ens_name\n",
    "\n",
    "ens_database = \"../../data/ens_database.json\"\n",
    "\n",
    "with open(\"../../data/umbra_contract_txs.json\", \"r\") as file:\n",
    "    contract_txs = json.load(file)[\"result\"]\n",
    "\n",
    "with open(\"../../data/stealth_contract_txs.json\", \"r\") as file:\n",
    "    stealth_contract_txs = json.load(file)[\"result\"]\n",
    "\n",
    "with open(ens_database, \"r\") as file:\n",
    "    ens_db = json.load(file)\n",
    "\n",
    "chain = []\n",
    "n = 0\n",
    "for d in contract_txs:\n",
    "    n+=1\n",
    "    if d[\"functionName\"] == \"sendEth(address _receiver, uint256 _tollCommitment, bytes32 _pkx, bytes32 _ciphertext)\":\n",
    "        k = d[d[\"functionName\"]][\"_receiver\"]\n",
    "        for tx in d[d[\"functionName\"]][k]:\n",
    "            if d[\"from\"] == tx[\"to\"]:\n",
    "                chain.append({\"tx\": d[\"hash\"], \"address\": d[\"from\"]})\n",
    "    elif d[\"functionName\"] == \"withdrawTokenOnBehalf(address _stealthAddr, address _acceptor, address _tokenAddr, address _sponsor, uint256 _sponsorFee, uint8 _v, bytes32 _r, bytes32 _s)\":\n",
    "        if d[\"from\"] == d[d[\"functionName\"]][\"_acceptor\"]:\n",
    "            chain.append({\"tx\": d[\"hash\"], \"address\": d[\"from\"]})\n",
    "\n",
    "n = 0\n",
    "for d in chain:\n",
    "    n+=1\n",
    "    try:\n",
    "        get_ens_name(d, \"address\", \"ens\", ns, ens_db)\n",
    "    except exceptions.InvalidName as err:\n",
    "        print(f\"Error occured at the {n}th item: {err}\\nContinuing the process...\")\n",
    "\n",
    "with open(ens_database, \"w\") as file:\n",
    "    json.dump(ens_db, file)\n",
    "\n",
    "with open(\"../same_sender_receiver.json\", \"w\") as file:\n",
    "    json.dump(chain, file)\n",
    "\n",
    "with open(\"../same_sender_receiver_ens.json\", \"w\") as file:\n",
    "    json.dump(list(filter(lambda i: \"ens\" in i, chain)), file)"
   ]
  }
 ],
 "metadata": {
  "kernelspec": {
   "display_name": "Python 3.10.8 64-bit",
   "language": "python",
   "name": "python3"
  },
  "language_info": {
   "codemirror_mode": {
    "name": "ipython",
    "version": 3
   },
   "file_extension": ".py",
   "mimetype": "text/x-python",
   "name": "python",
   "nbconvert_exporter": "python",
   "pygments_lexer": "ipython3",
   "version": "3.10.8"
  },
  "vscode": {
   "interpreter": {
    "hash": "351916a5f5b0b06d95a3f2bbd74a099d4c088b9a5b67df841135599309f03d3a"
   }
  }
 },
 "nbformat": 4,
 "nbformat_minor": 5
}
