{
 "cells": [
  {
   "cell_type": "code",
   "execution_count": 6,
   "id": "d71fc006",
   "metadata": {},
   "outputs": [],
   "source": [
    "#network = \"mainnet\"\n",
    "network = \"polygon\"\n",
    "\n",
    "import sys\n",
    "import json\n",
    "from collections import Counter\n",
    "sys.path.append('../')\n",
    "\n",
    "from helper import FunctionName as fn\n",
    "\n",
    "umbra_contract_txs_json = f\"../umbra/data/{network}/umbra_contract_txs.json\"\n",
    "skr_contract_txs_json = f\"../umbra/data/{network}/stealth_key_registry_contract_txs.json\"\n",
    "\n",
    "with open(umbra_contract_txs_json, \"r\") as file:\n",
    "    data = json.load(file)\n",
    "\n",
    "with open(skr_contract_txs_json, \"r\") as file:\n",
    "    skr_data = json.load(file)\n",
    "\n",
    "contract_txs = data[\"result\"]\n",
    "skr_contract_txs = skr_data[\"result\"]"
   ]
  },
  {
   "cell_type": "code",
   "execution_count": 5,
   "metadata": {},
   "outputs": [
    {
     "name": "stdout",
     "output_type": "stream",
     "text": [
      "[]\n"
     ]
    }
   ],
   "source": [
    "\"\"\"\n",
    "    ### common_statistics --> ###\n",
    "    #1\n",
    "    Are there stealth addresses that have been used more than once?\n",
    "\"\"\"\n",
    "\n",
    "stealths = []\n",
    "\n",
    "for d in contract_txs:\n",
    "    # these stealths occure twice because of send\n",
    "    if d[\"functionName\"] == fn.W_TOKEN.value:\n",
    "        continue\n",
    "\n",
    "    receiver = d[d[\"functionName\"]][\"_receiver\"]\n",
    "    stealths.append(receiver)\n",
    "\n",
    "stealths = Counter(stealths)\n",
    "\n",
    "print(list(filter(lambda d: stealths[d] > 1, stealths)))\n",
    "\n",
    "\"\"\"\n",
    "    The answer is no as expected, but we had to be sure.\n",
    "\"\"\"\n",
    "pass"
   ]
  },
  {
   "cell_type": "code",
   "execution_count": null,
   "id": "ce82ea84",
   "metadata": {},
   "outputs": [],
   "source": [
    "\"\"\"\n",
    "    ### common_statistics --> ###\n",
    "    #2\n",
    "    To check wether the whole eth has been withdrawn, we need the to check the sending amount\n",
    "    since this is the only way to figure out how much eth was stored on the stealth account. \n",
    "\"\"\"\n",
    "\n",
    "for d in contract_txs:\n",
    "    if d[\"functionName\"] == fn.S_ETH.value:\n",
    "        sent_eth = int(d[\"value\"])\n",
    "\n",
    "        receiver = d[d[\"functionName\"]][\"_receiver\"]\n",
    "        for tx in d[d[\"functionName\"]][receiver]:\n",
    "            withdrawn_eth = int(tx[\"value\"]) + (int(tx[\"gasUsed\"]) * int(tx[\"gasPrice\"]))\n",
    "\n",
    "            if sent_eth != withdrawn_eth:\n",
    "                s = sent_eth/pow(10, 18)\n",
    "                w = withdrawn_eth/pow(10, 18)\n",
    "                print(tx[\"from\"])\n",
    "        \n",
    "\n",
    "\"\"\"\n",
    "    At the time of writing this comment (2022.12.01.) there are 3 case when the compared two amounts\n",
    "    are not equal:\n",
    "\n",
    "        0x9f6f037b8782c04922eb7e1a5f602f32279e17cf\n",
    "        0x07ebf2789f239d56b936b37a8d753a3429ebeb62\n",
    "        0xc7f6aec4f08b1ec6f220ab39e6a590909e76195c\n",
    "    \n",
    "    Checking these addresses on etherscan.io, we can see that the unspent amount is still stored on the\n",
    "    stealth account in case of the last two. In case of the first one (0x9f6f037b8782c04922eb7e1a5f602f32279e17cf),\n",
    "    I have no idea where that little eth have gone, because etherscan shows that this account has 0 eth on it.\n",
    "\n",
    "    These txs can diminish all of our heuristics, since if not the whole amount was spent, then there's a higher chance\n",
    "    that it was really a tx where someone payed to someone else. Also, if there are more withdrawal transactions from a\n",
    "    stealth address, how could we know who is the real recipient or if more address has communicated with the\n",
    "    stealth key registry, which one should we look after for?\n",
    "    For future sustainability, we will implement this checking module into the instantiator class of the heuristics\n",
    "    (MyStatistics).\n",
    "\n",
    "    ###\n",
    "    ###\n",
    "    ###\n",
    "\n",
    "    Since the other txs transfer all the eth/token from stealth addresses, we can be\n",
    "    basically 100% sure about that if the recepient of the tx is an address which has\n",
    "    communicated with the skr, then the recepient is really the person\n",
    "    who controls the stealth address, not just another person who has communicated with the skr.\n",
    "    We can say it because it is highly unlikely that someone has to pay exactly the same amount to\n",
    "    someone else that she/he has received.\n",
    "\"\"\"\n",
    "pass"
   ]
  },
  {
   "cell_type": "code",
   "execution_count": null,
   "id": "1c480b7b",
   "metadata": {},
   "outputs": [],
   "source": [
    "# Check if there is an address who received both eth and token\n",
    "\n",
    "from collections import Counter\n",
    "\n",
    "with open(\"../umbra/data/umbra_contract_txs.json\", \"r\") as file:\n",
    "    data = json.load(file)\n",
    "\n",
    "contract_txs = data[\"result\"]\n",
    "\n",
    "token = []\n",
    "eth = []\n",
    "\n",
    "for d in contract_txs:\n",
    "    if d[\"functionName\"] == fn.S_ETH.value:\n",
    "        receiver = d[d[\"functionName\"]][\"_receiver\"]\n",
    "\n",
    "        for tx in d[d[\"functionName\"]][receiver]:\n",
    "            eth.append(tx[\"to\"])\n",
    "\n",
    "    if d[\"functionName\"] == fn.W_TOKEN.value:\n",
    "        acceptor = d[d[\"functionName\"]][\"_acceptor\"]\n",
    "        token.append(acceptor)\n",
    "\n",
    "\n",
    "for t in token:\n",
    "    if t in eth:\n",
    "        print(t)\n",
    "\n",
    "# Since there's nothing to print, no one has used umbra to withdraw both eth and token\n",
    "\n",
    "token = Counter(token)\n",
    "eth = Counter(eth)\n",
    "\n",
    "print(max(dict(token).values()))\n",
    "print(max(dict(eth).values()))\n",
    "\n",
    "# But there are people who have used an address to withdraw more than once exclusively for eth or token"
   ]
  },
  {
   "cell_type": "code",
   "execution_count": 2,
   "id": "4fca0041",
   "metadata": {},
   "outputs": [],
   "source": [
    "txs_to_contract = []\n",
    "\n",
    "for c in contract_txs:\n",
    "    txs_to_contract.append(c[\"from\"])\n",
    "\n",
    "adresses_of_txs_to_contract_count = Counter(txs_to_contract) #count of txs grouped by address\n",
    "\n",
    "with open(f\"./results/{network}/sender_addresses.json\", \"w\") as file:\n",
    "    json.dump(dict(adresses_of_txs_to_contract_count), file)"
   ]
  },
  {
   "cell_type": "code",
   "execution_count": 7,
   "id": "e1b24cfc",
   "metadata": {},
   "outputs": [
    {
     "name": "stdout",
     "output_type": "stream",
     "text": [
      "22702\n"
     ]
    }
   ],
   "source": [
    "registrants = set()\n",
    "\n",
    "for d in skr_contract_txs:\n",
    "    registrants.add(d[\"from\"])\n",
    "\n",
    "print(len(registrants))"
   ]
  }
 ],
 "metadata": {
  "kernelspec": {
   "display_name": "Python 3",
   "language": "python",
   "name": "python3"
  },
  "language_info": {
   "codemirror_mode": {
    "name": "ipython",
    "version": 3
   },
   "file_extension": ".py",
   "mimetype": "text/x-python",
   "name": "python",
   "nbconvert_exporter": "python",
   "pygments_lexer": "ipython3",
   "version": "3.10.8"
  },
  "vscode": {
   "interpreter": {
    "hash": "ddb05764a9d54ca5e1f4705590092b620d44a2a3d1ffd769aac68690959736db"
   }
  }
 },
 "nbformat": 4,
 "nbformat_minor": 5
}
