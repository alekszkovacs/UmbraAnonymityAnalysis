{
 "cells": [
  {
   "cell_type": "code",
   "execution_count": 9,
   "id": "6721a144",
   "metadata": {},
   "outputs": [],
   "source": [
    "import sys\n",
    "import json\n",
    "sys.path.append('../../')\n",
    "\n",
    "from helper import FunctionName as fn\n",
    "\n",
    "umbra_contract_txs_json = \"../../umbra/data/umbra_contract_txs.json\"\n",
    "\n",
    "with open(umbra_contract_txs_json, \"r\") as file:\n",
    "    data = json.load(file)\n",
    "\n",
    "contract_txs = data[\"result\"]"
   ]
  },
  {
   "cell_type": "code",
   "execution_count": null,
   "id": "aefcba46",
   "metadata": {},
   "outputs": [],
   "source": [
    "# TODO make good figures"
   ]
  }
 ],
 "metadata": {
  "kernelspec": {
   "display_name": "Python 3.10.8 64-bit",
   "language": "python",
   "name": "python3"
  },
  "language_info": {
   "codemirror_mode": {
    "name": "ipython",
    "version": 3
   },
   "file_extension": ".py",
   "mimetype": "text/x-python",
   "name": "python",
   "nbconvert_exporter": "python",
   "pygments_lexer": "ipython3",
   "version": "3.10.8"
  },
  "vscode": {
   "interpreter": {
    "hash": "351916a5f5b0b06d95a3f2bbd74a099d4c088b9a5b67df841135599309f03d3a"
   }
  }
 },
 "nbformat": 4,
 "nbformat_minor": 5
}
