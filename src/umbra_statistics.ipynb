{
 "cells": [
  {
   "cell_type": "code",
   "execution_count": null,
   "id": "c2d64e62",
   "metadata": {},
   "outputs": [],
   "source": [
    "import numpy as np\n",
    "import pandas as pd\n",
    "from matplotlib import pyplot as plt\n",
    "import json\n",
    "\n",
    "%matplotlib inline"
   ]
  },
  {
   "cell_type": "code",
   "execution_count": null,
   "id": "4ca3479f",
   "metadata": {},
   "outputs": [],
   "source": [
    "with open(\"data/contract_txs.json\", \"r\") as file:\n",
    "    contract_txs = json.load(file)[\"result\"] #all the transactions' details related to the umbra contract\n",
    "\n",
    "contract_txs = contract_txs[1:]\n",
    "print(contract_txs[0])"
   ]
  },
  {
   "cell_type": "code",
   "execution_count": null,
   "id": "8217f473",
   "metadata": {},
   "outputs": [],
   "source": [
    "txs_to_contract = []\n",
    "\n",
    "for c in contract_txs:\n",
    "    txs_to_contract.append(c[\"from\"])"
   ]
  },
  {
   "cell_type": "code",
   "execution_count": null,
   "id": "1c92cc13",
   "metadata": {},
   "outputs": [],
   "source": [
    "# from collections import Counter\n",
    "\n",
    "# count_of_txs_grouped_by_addresses = Counter(txs_to_contract) #count of txs grouped by address\n",
    "# print(count_of_txs_grouped_by_addresses)"
   ]
  },
  {
   "cell_type": "code",
   "execution_count": null,
   "id": "cecc66ab",
   "metadata": {},
   "outputs": [],
   "source": [
    "adresses_of_txs_to_contract_series = pd.Series(txs_to_contract, name=\"Txs count grouped by addressess\")"
   ]
  },
  {
   "cell_type": "code",
   "execution_count": null,
   "id": "577cb4ae",
   "metadata": {},
   "outputs": [],
   "source": [
    "adresses_of_txs_to_contract_count = adresses_of_txs_to_contract_series.value_counts()\n",
    "df = pd.DataFrame({\"Address\": adresses_of_txs_to_contract_count.index, \"Count\": adresses_of_txs_to_contract_count.values})"
   ]
  },
  {
   "cell_type": "code",
   "execution_count": null,
   "id": "568697ec",
   "metadata": {},
   "outputs": [],
   "source": [
    "#df.plot.axes.get_xaxis().set_visible(False)\n",
    "# ax = df.plot.bar(rot=0, figsize=(20,10))\n",
    "# ax.set(xticklabels=[])\n",
    "# plt.yscale('log')\n",
    "# plt.show()"
   ]
  },
  {
   "cell_type": "code",
   "execution_count": null,
   "id": "2996eb9a",
   "metadata": {},
   "outputs": [],
   "source": [
    "plt.hist(adresses_of_txs_to_contract_count.values,bins=100)\n",
    "plt.ylabel('Sender addresses')\n",
    "plt.xlabel('Umbra transactions')\n",
    "plt.yscale(\"log\")\n",
    "#print(mean(adresses_of_txs_to_contract_count.values))"
   ]
  }
 ],
 "metadata": {
  "kernelspec": {
   "display_name": "Python 3.9.7 64-bit",
   "language": "python",
   "name": "python3"
  },
  "language_info": {
   "codemirror_mode": {
    "name": "ipython",
    "version": 3
   },
   "file_extension": ".py",
   "mimetype": "text/x-python",
   "name": "python",
   "nbconvert_exporter": "python",
   "pygments_lexer": "ipython3",
   "version": "3.9.7"
  },
  "vscode": {
   "interpreter": {
    "hash": "dbade3c788f43d66523ba27a3dccfdc26e3957d63f3df71940ccc4a437cdd837"
   }
  }
 },
 "nbformat": 4,
 "nbformat_minor": 5
}
