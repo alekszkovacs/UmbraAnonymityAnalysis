{
 "cells": [
  {
   "cell_type": "code",
   "execution_count": 2,
   "id": "c2d64e62",
   "metadata": {},
   "outputs": [],
   "source": [
    "import numpy as np\n",
    "import pandas as pd\n",
    "from matplotlib import pyplot as plt\n",
    "import json\n",
    "\n",
    "%matplotlib inline"
   ]
  },
  {
   "cell_type": "code",
   "execution_count": 3,
   "id": "4ca3479f",
   "metadata": {},
   "outputs": [],
   "source": [
    "with open(\"../umbra/data/umbra_contract_txs.json\", \"r\") as file:\n",
    "    contract_txs = json.load(file)[\"result\"] #all the transactions' details related to the umbra contract"
   ]
  },
  {
   "cell_type": "code",
   "execution_count": 4,
   "id": "8217f473",
   "metadata": {},
   "outputs": [
    {
     "data": {
      "image/png": "[encoded data removed]",
      "text/plain": [
       "<Figure size 640x480 with 1 Axes>"
      ]
     },
     "metadata": {},
     "output_type": "display_data"
    }
   ],
   "source": [
    "txs_to_contract = []\n",
    "\n",
    "for c in contract_txs:\n",
    "    txs_to_contract.append(c[\"from\"])\n",
    "\n",
    "adresses_of_txs_to_contract_series = pd.Series(txs_to_contract, name=\"Txs count grouped by addressess\")\n",
    "adresses_of_txs_to_contract_count = adresses_of_txs_to_contract_series.value_counts()\n",
    "df = pd.DataFrame({\"Address\": adresses_of_txs_to_contract_count.index, \"Count\": adresses_of_txs_to_contract_count.values})\n",
    "\n",
    "plt.hist(adresses_of_txs_to_contract_count.values,bins=100)\n",
    "plt.ylabel('Sender addresses')\n",
    "plt.xlabel('Umbra transactions')\n",
    "plt.yscale(\"log\")\n",
    "#print(mean(adresses_of_txs_to_contract_count.values))"
   ]
  },
  {
   "cell_type": "code",
   "execution_count": 5,
   "id": "568697ec",
   "metadata": {},
   "outputs": [],
   "source": [
    "#df.plot.axes.get_xaxis().set_visible(False)\n",
    "# ax = df.plot.bar(rot=0, figsize=(20,10))\n",
    "# ax.set(xticklabels=[])\n",
    "# plt.yscale('log')\n",
    "# plt.show()"
   ]
  },
  {
   "cell_type": "code",
   "execution_count": 6,
   "id": "20e35659",
   "metadata": {},
   "outputs": [
    {
     "data": {
      "image/png": "[encoded data removed]",
      "text/plain": [
       "<Figure size 640x480 with 1 Axes>"
      ]
     },
     "metadata": {},
     "output_type": "display_data"
    }
   ],
   "source": [
    "#Sent eth\n",
    "\n",
    "amounts = []\n",
    "\n",
    "for d in contract_txs:\n",
    "    if d[\"functionName\"] == \"sendEth(address _receiver, uint256 _tollCommitment, bytes32 _pkx, bytes32 _ciphertext)\":\n",
    "        amounts.append(int(d[\"value\"])/pow(10, 18))\n",
    "\n",
    "amounts = pd.Series(amounts, name=\"Wei amounts\")\n",
    "amounts_count = amounts.value_counts()\n",
    "df = pd.DataFrame({\"Sent eth\": amounts_count.index, \"Sender Addresses\": amounts_count.values})\n",
    "\n",
    "plt.hist(amounts_count.values,bins=200)\n",
    "plt.ylabel('Count')\n",
    "plt.xlabel('Value')\n",
    "plt.yscale(\"log\")\n",
    "plt.xscale(\"log\")"
   ]
  },
  {
   "cell_type": "code",
   "execution_count": 1,
   "id": "e0d38975",
   "metadata": {},
   "outputs": [],
   "source": [
    "sys.path.append('../umbra/')\n",
    "import sys\n",
    "from helper import Access\n",
    "from get_ens_name import get_ens_name\n",
    "import json\n",
    "\n",
    "_access = Access()\n",
    "\n",
    "with open(\"../umbra/data/umbra_contract_txs.json\", \"r\") as file:\n",
    "    contract_txs = json.load(file)[\"result\"]\n",
    "\n",
    "with open(\"../umbra/data/stealth_key_registry_contract_txs.json\", \"r\") as file:\n",
    "    stealth_contract_txs = json.load(file)[\"result\"]\n",
    "\n",
    "ens_database = \"../umbra/data/ens_database.json\"\n",
    "\n",
    "with open(ens_database, \"r\") as file:\n",
    "    ens_db = json.load(file)"
   ]
  },
  {
   "cell_type": "code",
   "execution_count": 8,
   "id": "e1f2c3cf",
   "metadata": {},
   "outputs": [
    {
     "name": "stdout",
     "output_type": "stream",
     "text": [
      "[]\n"
     ]
    }
   ],
   "source": [
    "#Are there stealth addresses that have been used more then once?\n",
    "\n",
    "from collections import Counter\n",
    "    \n",
    "addresses = []\n",
    "\n",
    "for d in contract_txs:\n",
    "    if d[\"functionName\"] == \"withdrawTokenOnBehalf(address _stealthAddr, address _acceptor, address _tokenAddr, address _sponsor, uint256 _sponsorFee, uint8 _v, bytes32 _r, bytes32 _s)\" or d[\"functionName\"] == \"\":\n",
    "        continue\n",
    "\n",
    "    addresses.append(d[d[\"functionName\"]][\"_receiver\"])\n",
    "\n",
    "addresses_count = dict(Counter(addresses))\n",
    "\n",
    "print(list(filter(lambda d: addresses_count[d] > 1, addresses_count)))"
   ]
  },
  {
   "cell_type": "code",
   "execution_count": 9,
   "id": "2276fe49",
   "metadata": {},
   "outputs": [],
   "source": [
    "# When the receiver address of the eth/token has an address which has communicated with stealth registry\n",
    "\n",
    "skr_addresses = list(map(lambda d: d[\"from\"], stealth_contract_txs))\n",
    "\n",
    "chain = []\n",
    "\n",
    "for d in contract_txs:\n",
    "    \n",
    "    if d[\"functionName\"] == \"sendEth(address _receiver, uint256 _tollCommitment, bytes32 _pkx, bytes32 _ciphertext)\":\n",
    "        stealth = d[d[\"functionName\"]][\"_receiver\"]\n",
    "        for tx in d[d[\"functionName\"]][stealth]:\n",
    "            if tx[\"to\"] in skr_addresses:\n",
    "                a_append = {\"sender_tx\": d[\"hash\"],\n",
    "                            \"receiver_tx\": tx[\"hash\"],\n",
    "                            \"receiver_address\": tx[\"to\"]}\n",
    "                if \"receiver_ens\" in tx:\n",
    "                    chain.append({**a_append, **{\"ens\": tx[\"receiver_ens\"]}})\n",
    "                else:\n",
    "                    chain.append(a_append)\n",
    "    elif d[\"functionName\"] == \"withdrawTokenOnBehalf(address _stealthAddr, address _acceptor, address _tokenAddr, address _sponsor, uint256 _sponsorFee, uint8 _v, bytes32 _r, bytes32 _s)\":\n",
    "        receiver = d[d[\"functionName\"]][\"_acceptor\"]\n",
    "        if receiver in skr_addresses:\n",
    "            a_append = {\"sender_tx\": d[\"hash\"],\n",
    "                        \"receiver_tx\": d[\"hash\"],\n",
    "                        \"receiver_address\": receiver}\n",
    "            if \"receiver_ens\" in d[d[\"functionName\"]]:\n",
    "                chain.append({**a_append, **{\"ens\": d[d[\"functionName\"]][\"receiver_ens\"]}})\n",
    "            else:\n",
    "                chain.append(a_append)\n",
    "\n",
    "\n",
    "with open(\"results/receivers_in_skr.json\", \"w\") as file:\n",
    "    json.dump(chain, file)\n",
    "\n",
    "with open(\"results/receivers_in_skr_ens.json\", \"w\") as file:\n",
    "    json.dump(list(filter(lambda i: \"ens\" in i, chain)), file)\n"
   ]
  },
  {
   "cell_type": "code",
   "execution_count": 10,
   "id": "0231a05f",
   "metadata": {},
   "outputs": [],
   "source": [
    "skr_ens = []\n",
    "\n",
    "for d in stealth_contract_txs:\n",
    "    if \"ens\" in d:\n",
    "        skr_ens.append(d[\"ens\"])\n",
    "\n",
    "with open(\"results/skr_ens.json\", \"w\") as file:\n",
    "    json.dump(skr_ens, file)"
   ]
  },
  {
   "cell_type": "code",
   "execution_count": 11,
   "id": "915db1b6",
   "metadata": {},
   "outputs": [],
   "source": [
    "# Collector Pattern\n",
    "\n",
    "stealth_withdraw_txs = {}\n",
    "\n",
    "for d in contract_txs:\n",
    "    \n",
    "    if d[\"functionName\"] == \"sendEth(address _receiver, uint256 _tollCommitment, bytes32 _pkx, bytes32 _ciphertext)\":\n",
    "\n",
    "        stealth = d[d[\"functionName\"]][\"_receiver\"]\n",
    "        \n",
    "        for tx in d[d[\"functionName\"]][stealth]:\n",
    "            \n",
    "            if tx[\"to\"] not in stealth_withdraw_txs: \n",
    "                stealth_withdraw_txs[tx[\"to\"]] = {}\n",
    "                if \"receiver_ens\" in tx: stealth_withdraw_txs[tx[\"to\"]][\"ens\"] = tx[\"receiver_ens\"]\n",
    "                stealth_withdraw_txs[tx[\"to\"]][\"collection_count\"] = 0\n",
    "                stealth_withdraw_txs[tx[\"to\"]][\"stealths\"] = []\n",
    "\n",
    "            stealth_withdraw_txs[tx[\"to\"]][\"stealths\"].append(stealth)\n",
    "            stealth_withdraw_txs[tx[\"to\"]][\"collection_count\"] += 1\n",
    "\n",
    "    elif d[\"functionName\"] == \"withdrawTokenOnBehalf(address _stealthAddr, address _acceptor, address _tokenAddr, address _sponsor, uint256 _sponsorFee, uint8 _v, bytes32 _r, bytes32 _s)\":\n",
    "\n",
    "        func = d[d[\"functionName\"]]\n",
    "        receiver = func[\"_acceptor\"]\n",
    "\n",
    "        if receiver not in stealth_withdraw_txs: \n",
    "            stealth_withdraw_txs[receiver] = {}\n",
    "            if \"receiver_ens\" in func: stealth_withdraw_txs[receiver][\"ens\"] = func[\"receiver_ens\"]\n",
    "            stealth_withdraw_txs[receiver][\"collection_count\"] = 0\n",
    "            stealth_withdraw_txs[receiver][\"stealths\"] = []\n",
    "\n",
    "        stealth_withdraw_txs[receiver][\"stealths\"].append(func[\"_stealthAddr\"])\n",
    "        stealth_withdraw_txs[receiver][\"collection_count\"] += 1\n",
    "\n",
    "\n",
    "with open(\"results/collector_pattern.json\", \"w\") as file:\n",
    "    json.dump(stealth_withdraw_txs, file)\n"
   ]
  },
  {
   "cell_type": "code",
   "execution_count": 13,
   "id": "45b843a3",
   "metadata": {},
   "outputs": [
    {
     "name": "stdout",
     "output_type": "stream",
     "text": [
      "    txs  addresses\n",
      "0     1       3626\n",
      "1     2        827\n",
      "2     3        204\n",
      "3     4         75\n",
      "4     5         46\n",
      "5     6         15\n",
      "6     7         11\n",
      "7     8         10\n",
      "8    12          4\n",
      "9    10          4\n",
      "10    9          3\n",
      "11   11          3\n",
      "12   13          1\n",
      "13   18          1\n",
      "14   14          1\n",
      "15   24          1\n",
      "16   23          1\n",
      "17   35          1\n",
      "18   38          1\n"
     ]
    },
    {
     "data": {
      "text/plain": [
       "Text(0.5, 0, 'No. of addresses')"
      ]
     },
     "execution_count": 13,
     "metadata": {},
     "output_type": "execute_result"
    },
    {
     "data": {
      "image/png": "[encoded data removed]",
      "text/plain": [
       "<Figure size 640x480 with 1 Axes>"
      ]
     },
     "metadata": {},
     "output_type": "display_data"
    }
   ],
   "source": [
    "with open(\"results/collector_pattern.json\", \"r\") as file:\n",
    "    collection_counts = json.load(file)\n",
    "\n",
    "amounts = list(map(lambda d: d[\"collection_count\"], collection_counts.values()))\n",
    "\n",
    "amounts = pd.Series(amounts, name=\"Collector Pattern: Counts\")\n",
    "amounts_count = amounts.value_counts()\n",
    "df = pd.DataFrame({\"txs\": amounts_count.index, \"addresses\": amounts_count.values})\n",
    "\n",
    "print(df)\n",
    "\n",
    "plt.hist(amounts_count.values,bins=200)\n",
    "plt.ylabel('No. of txs that were sent to same address')\n",
    "plt.xlabel('No. of addresses')"
   ]
  },
  {
   "cell_type": "code",
   "execution_count": 21,
   "id": "f4895c0e",
   "metadata": {},
   "outputs": [
    {
     "name": "stdout",
     "output_type": "stream",
     "text": [
      "27479434980\n"
     ]
    }
   ],
   "source": [
    "asd = _access.w3.eth.fee_history(1, 15920305)\n",
    "print(asd[\"baseFeePerGas\"][0])"
   ]
  },
  {
   "cell_type": "code",
   "execution_count": 23,
   "id": "0cf727db",
   "metadata": {},
   "outputs": [
    {
     "name": "stdout",
     "output_type": "stream",
     "text": [
      "7616/7617\r"
     ]
    }
   ],
   "source": [
    "with open(\"../umbra/data/umbra_contract_txs.json\", \"r\") as file:\n",
    "    data = json.load(file)\n",
    "\n",
    "contract_txs = data[\"result\"]\n",
    "\n",
    "n=-1\n",
    "l=len(contract_txs)\n",
    "for d in contract_txs:\n",
    "n+=1\n",
    "    baseFee = _access.w3.eth.fee_history(1, int(d[\"blockNumber\"]))[\"baseFeePerGas\"][0]\n",
    "    d[\"baseFee\"] = baseFee\n",
    "    print(f\"{n}/{l}\\r\", end=\"\")\n",
    "\n",
    "\n",
    "with open(\"../umbra/data/umbra_contract_txs.json\", \"w\") as file:\n",
    "        json.dump(data, file)"
   ]
  },
  {
   "cell_type": "code",
   "execution_count": 6,
   "id": "8bf02b52",
   "metadata": {},
   "outputs": [
    {
     "name": "stdout",
     "output_type": "stream",
     "text": [
      "{'0xb4435399AB53D6136C9AEEBb77a0120620b117F9'}\n",
      "\n",
      "{25602782893390628197: 1, 14114156599299988709: 1, 8667661: 1, 8443456: 1, 5513707: 1, 4342982: 1, 3211791: 1, 3695093985102841786: 1, 3806005: 1, 4997216: 1, 5401593: 1, 1785258017978026856: 1, 4313607616004260701: 1, 3343121: 1, 5432155: 1, 11029545662309169028: 1, 11436554743585616328: 1, 22018483: 1, 24159271: 1, 23936933: 1, 20938764: 1, 27880502: 1, 35373532: 1, 39426438: 1, 18885042146183749663: 1, 22665634: 1, 28585650: 1, 22995282: 1, 18650003312355084464: 1, 20669613296307041902: 1, 18335947278982053301: 1, 18039202591577373535: 1, 54064551: 1, 41350923111612175873: 1, 43264714: 1, 62092195: 1, 48463972: 1, 25418239: 1, 37133450: 1, 43050679: 1, 39182274: 1, 15432102102102102102: 1, 17879366490691858849: 1, 24069614: 1, 13776982: 1, 25985249164500556999: 1, 11624211: 1, 9875468: 1, 22215688: 1, 5941226: 1, 3329341094295692665: 1, 3329944110950113848: 1, 11409687: 1, 29857058: 1, 7591900: 1, 6556594: 1, 6641893: 1, 10587352: 1, 26142943: 1, 25803969: 1, 28685934: 1, 24753735: 1, 16080019: 1, 8953184: 1, 5169026: 1, 21535095: 1, 9196008: 1, 11325633: 1, 16934991: 1, 25591861: 1, 12841303: 1, 6213625: 1, 26722929: 1, 18433107: 1, 21709537: 1, 33430863: 1, 32774040: 1, 29326282: 1, 8306768: 1, 9672715: 1, 14726683: 1, 21167658113790440229: 1, 10581534: 1, 16111434: 1, 17228688: 1, 9227358: 1, 6920180: 1, 5417967: 1, 9202428: 1, 4920942: 1, 20041561: 1, 17425624: 1, 15571011: 1, 17065562: 1, 12706465: 1, 7131038720052781328: 1, 7801170: 1, 5538772: 1, 9177634: 1, 11004500: 1, 8287366: 1, 6671182: 1, 4578975: 1, 2121601266079616929: 1, 2952879606779384470: 1, 2797503222242680905: 1, 2946869389998168162: 1, 4755865: 1, 4199288: 1, 3973227: 1, 4683735884371425600: 1, 4853484: 1, 3906854: 1, 3093801: 1, 3484899: 1, 2870732: 1, 5041203: 1, 4152255: 1, 3164862: 1, 3230431: 1, 8927209: 1, 2382412: 1, 2231710: 1, 4310280096457058059: 1, 3295765298805597098: 1, 3143631: 1, 2826062: 1, 3026473: 1, 4414765: 1, 2972293: 1, 5266713: 1, 8520576: 1, 8429402: 1, 3918199: 1, 2896938: 1, 5565633: 1, 6829612: 1, 5722108: 1, 5171755: 1, 6150370: 1, 9505119: 1, 5927259: 1, 4345957: 1, 6548450: 1, 7935796: 1, 8116380: 1, 9946766054651941671: 1, 18602629: 1, 9968569: 1, 4223278: 1, 3883663: 1, 3532378: 1, 3030729: 1, 8203438: 1, 4935837: 1, 8656479: 1, 7420771: 1, 6290116: 1, 4991074: 1, 3407871: 1, 3727104: 1, 4530514: 1, 3726745: 1, 3076543: 1, 2917012: 1, 4173962: 1, 3314897337395681546: 1, 7264850: 1, 5804317: 1, 3547310: 1, 2082307: 1, 2087155: 1, 5641394: 1, 7252256: 1, 7551523: 1, 7200582: 1, 5084832: 1, 4242272: 1, 3962818: 1, 1724227: 1, 3133611: 1, 3226531: 1, 1473396: 1, 4895270: 1, 2515843: 1, 5580100: 1, 3319891: 1, 2929994: 1, 3520228: 1, 1768402384209497751: 1, 6652080: 1, 6193315: 1, 7348095: 1, 4674850: 1, 3422363845446182151: 1, 3415750778544828937: 1, 1300268: 1, 1733133: 1, 1188561: 1, 511211058736295746: 1, 2508649: 1, 1112905: 1, 1106905: 1, 1222756: 1, 3348135: 1, 3057930: 1, 1036916: 1, 2991898: 1, 906608: 1, 946044: 1, 1300387: 1, 3487644: 1, 860653: 1, 1720984: 1, 1545255: 1, 1095636716555141236: 1, 959077: 1, 1062301317396902961: 1, 928578543745361589: 1, 1789500: 1, 777160340746227796: 1, 2022170: 1, 5585371: 1, 2206284: 1, 830294709677419354: 1, 2731543: 1, 3453730: 1, 2290827: 1, 2978074: 1, 886402: 1, 4622102: 1, 1366899: 1, 1608883703098694847: 1, 1456542: 1, 1243652: 1, 1659188: 1, 1243184: 1, 966558: 1, 967453: 1, 1244426: 1, 1382696: 1, 1384922: 1, 1107938: 1, 1386068: 1, 3185046: 1, 1109725: 1, 1459414: 1, 1942924: 1, 6135091061922107031: 1, 2638080: 1, 1098319: 1, 943687: 1, 942440: 1, 784112: 1, 1264766: 1, 747088: 1, 897418: 1, 1840185: 1, 1344750: 1, 2280018: 1, 1069784: 1, 1475968: 1, 1405213: 1, 3472214: 1, 1479016: 1, 1965406: 1, 2477775: 1, 5744566: 1, 1214722: 1, 2004506: 1, 7436583: 1, 1519116: 1, 1125222: 1, 1266472: 1, 1117256: 1, 545907: 1, 555669: 1, 1825393: 1, 867891: 1, 689598: 1, 689410: 1, 965108: 1, 826278: 1, 825794: 1, 825658: 1, 827044: 1, 690304: 1, 827857: 1, 688734: 1, 1231612: 1, 958790: 1, 958076: 1, 958504: 1, 821620: 1, 821764: 1, 683858: 1, 546872: 1, 548437: 1, 960770: 1, 884622: 1, 884534: 2, 758172: 1, 753882: 1, 1461975: 1, 1086994: 1, 865789: 1, 1216410: 1, 1120136: 1, 1342392: 1, 1068915: 1, 935498: 1, 1518153: 1, 662154: 1, 530104: 1, 530425: 1, 530328: 1, 661988: 1, 901428: 1, 1741766998700736248: 1, 690040: 1, 1299709: 1, 774774: 1, 776401: 1, 636002: 1, 806324: 1, 805627: 1, 805863: 1, 805831: 1, 1075471: 1, 760851: 1, 4139925: 1, 2660294: 1, 3163030: 1, 3832371: 1, 1458650: 1, 1325662: 1, 1190629: 1, 6030352: 1, 2096583: 1, 1735737: 1, 2240068: 1, 2468055: 1, 2207895: 1, 2580619: 1, 1414621: 1, 4699701: 1, 4553550: 1, 1577749: 1, 2042812: 1, 1625660: 1, 1673749: 1, 1282278: 1, 1148120916069276152: 1, 1280430: 1, 1147102110667427266: 1, 3126684: 1, 1084606: 1, 1240497: 1, 1650572: 1, 1050748530372305682: 1, 1459836: 1, 1135392: 1, 1374003: 1, 1214250: 1, 1205624: 1, 1203895: 1, 1353849: 1, 1353337: 1, 1211437: 1, 2786413: 1, 3395650: 1, 3952270: 1, 3805311: 1, 1645732: 1, 1649584: 1, 1252176349710442741: 1, 4976943: 1, 1586954720331459010: 1, 1881308: 1, 2038083: 1, 1881400: 1, 1310375836958115438: 1, 1639699: 1, 1650600: 1, 1713615: 1, 1813822: 1, 1557806: 1, 1554762: 1, 1398990: 1, 1747582: 1, 2233466: 1, 2110010: 1}\n",
      "393\n",
      "\n",
      "{'0x2236b3a9c23a2e7847a8d2125d1828bc8b9b9713': 135, '0x5b4592b47f5d1aa3144c0ece5a81a1ad1369472e': 258}\n"
     ]
    }
   ],
   "source": [
    "from collections import Counter\n",
    "\n",
    "with open(\"../umbra/data/umbra_contract_txs.json\", \"r\") as file:\n",
    "    data = json.load(file)\n",
    "\n",
    "contract_txs = data[\"result\"]\n",
    "\n",
    "sponsors = set()\n",
    "fees = []\n",
    "relayers = []\n",
    "\n",
    "for d in contract_txs:\n",
    "    if d[\"functionName\"] == \"withdrawTokenOnBehalf(address _stealthAddr, address _acceptor, address _tokenAddr, address _sponsor, uint256 _sponsorFee, uint8 _v, bytes32 _r, bytes32 _s)\":\n",
    "        sponsors.add(d[d[\"functionName\"]][\"_sponsor\"])\n",
    "        fees.append(d[d[\"functionName\"]][\"_sponsorFee\"])\n",
    "        relayers.append(d[\"from\"])\n",
    "\n",
    "\n",
    "print(sponsors)\n",
    "print()\n",
    "print(dict(Counter(fees)))\n",
    "print(len(fees))\n",
    "print()\n",
    "print(dict(Counter(relayers)))\n",
    "\n",
    "# So there's only one sponsor for the tokens\n",
    "# And the fees are always different, so there's no need to check for the same values for possible connections\n",
    "# There are two relayers, maybe it has changed once during the operation of the umbra\n"
   ]
  },
  {
   "cell_type": "code",
   "execution_count": null,
   "id": "e2410d03",
   "metadata": {},
   "outputs": [],
   "source": []
  }
 ],
 "metadata": {
  "kernelspec": {
   "display_name": "Python 3.10.8 64-bit",
   "language": "python",
   "name": "python3"
  },
  "language_info": {
   "codemirror_mode": {
    "name": "ipython",
    "version": 3
   },
   "file_extension": ".py",
   "mimetype": "text/x-python",
   "name": "python",
   "nbconvert_exporter": "python",
   "pygments_lexer": "ipython3",
   "version": "3.10.8"
  },
  "vscode": {
   "interpreter": {
    "hash": "351916a5f5b0b06d95a3f2bbd74a099d4c088b9a5b67df841135599309f03d3a"
   }
  }
 },
 "nbformat": 4,
 "nbformat_minor": 5
}
