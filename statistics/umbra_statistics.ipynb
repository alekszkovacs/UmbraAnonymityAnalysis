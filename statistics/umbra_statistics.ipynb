{
 "cells": [
  {
   "cell_type": "code",
   "execution_count": 20,
   "id": "c2d64e62",
   "metadata": {},
   "outputs": [],
   "source": [
    "import numpy as np\n",
    "import pandas as pd\n",
    "from matplotlib import pyplot as plt\n",
    "import json\n",
    "\n",
    "%matplotlib inline"
   ]
  },
  {
   "cell_type": "code",
   "execution_count": 21,
   "id": "4ca3479f",
   "metadata": {},
   "outputs": [],
   "source": [
    "with open(\"../umbra/data/umbra_contract_txs.json\", \"r\") as file:\n",
    "    contract_txs = json.load(file)[\"result\"] #all the transactions' details related to the umbra contract"
   ]
  },
  {
   "cell_type": "code",
   "execution_count": 22,
   "id": "8217f473",
   "metadata": {},
   "outputs": [
    {
     "data": {
      "image/png": "[encoded data removed]",
      "text/plain": [
       "<Figure size 640x480 with 1 Axes>"
      ]
     },
     "metadata": {},
     "output_type": "display_data"
    }
   ],
   "source": [
    "txs_to_contract = []\n",
    "\n",
    "for c in contract_txs:\n",
    "    txs_to_contract.append(c[\"from\"])\n",
    "\n",
    "adresses_of_txs_to_contract_series = pd.Series(txs_to_contract, name=\"Txs count grouped by addressess\")\n",
    "adresses_of_txs_to_contract_count = adresses_of_txs_to_contract_series.value_counts()\n",
    "df = pd.DataFrame({\"Address\": adresses_of_txs_to_contract_count.index, \"Count\": adresses_of_txs_to_contract_count.values})\n",
    "\n",
    "plt.hist(adresses_of_txs_to_contract_count.values,bins=100)\n",
    "plt.ylabel('Sender addresses')\n",
    "plt.xlabel('Umbra transactions')\n",
    "plt.yscale(\"log\")\n",
    "#print(mean(adresses_of_txs_to_contract_count.values))"
   ]
  },
  {
   "cell_type": "code",
   "execution_count": null,
   "id": "568697ec",
   "metadata": {},
   "outputs": [],
   "source": [
    "#df.plot.axes.get_xaxis().set_visible(False)\n",
    "# ax = df.plot.bar(rot=0, figsize=(20,10))\n",
    "# ax.set(xticklabels=[])\n",
    "# plt.yscale('log')\n",
    "# plt.show()"
   ]
  },
  {
   "cell_type": "code",
   "execution_count": 27,
   "id": "20e35659",
   "metadata": {},
   "outputs": [
    {
     "data": {
      "image/png": "[encoded data removed]",
      "text/plain": [
       "<Figure size 640x480 with 1 Axes>"
      ]
     },
     "metadata": {},
     "output_type": "display_data"
    }
   ],
   "source": [
    "#Sent eth\n",
    "\n",
    "amounts = []\n",
    "\n",
    "for d in contract_txs:\n",
    "    if d[\"functionName\"] == \"sendEth(address _receiver, uint256 _tollCommitment, bytes32 _pkx, bytes32 _ciphertext)\":\n",
    "        amounts.append(int(d[\"value\"])/pow(10, 18))\n",
    "\n",
    "amounts = pd.Series(amounts, name=\"Wei amounts\")\n",
    "amounts_count = amounts.value_counts()\n",
    "df = pd.DataFrame({\"Sent eth\": amounts_count.index, \"Sender Addresses\": amounts_count.values})\n",
    "\n",
    "plt.hist(amounts_count.values,bins=200)\n",
    "plt.ylabel('Count')\n",
    "plt.xlabel('Value')\n",
    "plt.yscale(\"log\")\n",
    "plt.xscale(\"log\")"
   ]
  },
  {
   "cell_type": "code",
   "execution_count": 24,
   "id": "e0d38975",
   "metadata": {},
   "outputs": [],
   "source": [
    "sys.path.append('../umbra/')\n",
    "import sys\n",
    "from helper import Access\n",
    "from get_ens_name import get_ens_name\n",
    "import json\n",
    "\n",
    "with open(\"../umbra/data/umbra_contract_txs.json\", \"r\") as file:\n",
    "    contract_txs = json.load(file)[\"result\"]\n",
    "\n",
    "with open(\"../umbra/data/stealth_key_registry_contract_txs.json\", \"r\") as file:\n",
    "    stealth_contract_txs = json.load(file)[\"result\"]\n",
    "\n",
    "ens_database = \"../umbra/data/ens_database.json\"\n",
    "\n",
    "with open(ens_database, \"r\") as file:\n",
    "    ens_db = json.load(file)"
   ]
  },
  {
   "cell_type": "code",
   "execution_count": 25,
   "id": "e1f2c3cf",
   "metadata": {},
   "outputs": [
    {
     "name": "stdout",
     "output_type": "stream",
     "text": [
      "[]\n"
     ]
    }
   ],
   "source": [
    "#Are there stealth addresses that have been used more then once?\n",
    "\n",
    "from collections import Counter\n",
    "    \n",
    "addresses = []\n",
    "\n",
    "for d in contract_txs:\n",
    "    if d[\"functionName\"] == \"withdrawTokenOnBehalf(address _stealthAddr, address _acceptor, address _tokenAddr, address _sponsor, uint256 _sponsorFee, uint8 _v, bytes32 _r, bytes32 _s)\" or d[\"functionName\"] == \"\":\n",
    "        continue\n",
    "\n",
    "    addresses.append(d[d[\"functionName\"]][\"_receiver\"])\n",
    "\n",
    "addresses_count = dict(Counter(addresses))\n",
    "\n",
    "print(list(filter(lambda d: addresses_count[d] > 1, addresses_count)))"
   ]
  },
  {
   "cell_type": "code",
   "execution_count": 18,
   "id": "2276fe49",
   "metadata": {},
   "outputs": [],
   "source": [
    "# When the receiver address of the eth/token has an address which has communicated with stealth registry\n",
    "\n",
    "skr_addresses = list(map(lambda d: d[\"from\"], stealth_contract_txs))\n",
    "\n",
    "chain = []\n",
    "\n",
    "for d in contract_txs:\n",
    "    \n",
    "    if d[\"functionName\"] == \"sendEth(address _receiver, uint256 _tollCommitment, bytes32 _pkx, bytes32 _ciphertext)\":\n",
    "        stealth = d[d[\"functionName\"]][\"_receiver\"]\n",
    "        for tx in d[d[\"functionName\"]][stealth]:\n",
    "            if tx[\"to\"] in skr_addresses:\n",
    "                a_append = {\"sender_tx\": d[\"hash\"],\n",
    "                            \"receiver_tx\": tx[\"hash\"],\n",
    "                            \"receiver_address\": tx[\"to\"]}\n",
    "                if \"receiver_ens\" in tx:\n",
    "                    chain.append({**a_append, **{\"ens\": tx[\"receiver_ens\"]}})\n",
    "                else:\n",
    "                    chain.append(a_append)\n",
    "    elif d[\"functionName\"] == \"withdrawTokenOnBehalf(address _stealthAddr, address _acceptor, address _tokenAddr, address _sponsor, uint256 _sponsorFee, uint8 _v, bytes32 _r, bytes32 _s)\":\n",
    "        receiver = d[d[\"functionName\"]][\"_acceptor\"]\n",
    "        if receiver in skr_addresses:\n",
    "            a_append = {\"sender_tx\": d[\"hash\"],\n",
    "                        \"receiver_tx\": d[\"hash\"],\n",
    "                        \"receiver_address\": receiver}\n",
    "            if \"receiver_ens\" in d[d[\"functionName\"]]:\n",
    "                chain.append({**a_append, **{\"ens\": d[d[\"functionName\"]][\"receiver_ens\"]}})\n",
    "            else:\n",
    "                chain.append(a_append)\n",
    "\n",
    "\n",
    "with open(\"results/receivers_in_skr.json\", \"w\") as file:\n",
    "    json.dump(chain, file)\n",
    "\n",
    "with open(\"results/receivers_in_skr_ens.json\", \"w\") as file:\n",
    "    json.dump(list(filter(lambda i: \"ens\" in i, chain)), file)\n"
   ]
  },
  {
   "cell_type": "code",
   "execution_count": 19,
   "id": "0231a05f",
   "metadata": {},
   "outputs": [],
   "source": [
    "skr_ens = []\n",
    "\n",
    "for d in stealth_contract_txs:\n",
    "    if \"ens\" in d:\n",
    "        skr_ens.append(d[\"ens\"])\n",
    "\n",
    "with open(\"results/skr_ens.json\", \"w\") as file:\n",
    "    json.dump(skr_ens, file)"
   ]
  },
  {
   "cell_type": "code",
   "execution_count": 28,
   "id": "915db1b6",
   "metadata": {},
   "outputs": [],
   "source": [
    "# Collector Pattern\n",
    "\n",
    "stealth_withdraw_txs = {}\n",
    "\n",
    "for d in contract_txs:\n",
    "    \n",
    "    if d[\"functionName\"] == \"sendEth(address _receiver, uint256 _tollCommitment, bytes32 _pkx, bytes32 _ciphertext)\":\n",
    "\n",
    "        stealth = d[d[\"functionName\"]][\"_receiver\"]\n",
    "        \n",
    "        for tx in d[d[\"functionName\"]][stealth]:\n",
    "            \n",
    "            if tx[\"to\"] not in stealth_withdraw_txs: \n",
    "                stealth_withdraw_txs[tx[\"to\"]] = {}\n",
    "                if \"receiver_ens\" in tx: stealth_withdraw_txs[tx[\"to\"]][\"ens\"] = tx[\"receiver_ens\"]\n",
    "                stealth_withdraw_txs[tx[\"to\"]][\"stealths\"] = []\n",
    "\n",
    "            stealth_withdraw_txs[tx[\"to\"]][\"stealths\"].append(stealth)\n",
    "\n",
    "    elif d[\"functionName\"] == \"withdrawTokenOnBehalf(address _stealthAddr, address _acceptor, address _tokenAddr, address _sponsor, uint256 _sponsorFee, uint8 _v, bytes32 _r, bytes32 _s)\":\n",
    "\n",
    "        func = d[d[\"functionName\"]]\n",
    "        receiver = func[\"_acceptor\"]\n",
    "\n",
    "        if receiver not in stealth_withdraw_txs: \n",
    "            stealth_withdraw_txs[receiver] = {}\n",
    "            if \"receiver_ens\" in func: stealth_withdraw_txs[receiver][\"ens\"] = func[\"receiver_ens\"]\n",
    "            stealth_withdraw_txs[receiver][\"stealths\"] = []\n",
    "\n",
    "        stealth_withdraw_txs[receiver][\"stealths\"].append(func[\"_stealthAddr\"])\n",
    "\n",
    "\n",
    "with open(\"results/collector_pattern.json\", \"w\") as file:\n",
    "    json.dump(stealth_withdraw_txs, file)\n"
   ]
  },
  {
   "cell_type": "code",
   "execution_count": null,
   "id": "45b843a3",
   "metadata": {},
   "outputs": [],
   "source": []
  }
 ],
 "metadata": {
  "kernelspec": {
   "display_name": "Python 3.10.8 64-bit",
   "language": "python",
   "name": "python3"
  },
  "language_info": {
   "codemirror_mode": {
    "name": "ipython",
    "version": 3
   },
   "file_extension": ".py",
   "mimetype": "text/x-python",
   "name": "python",
   "nbconvert_exporter": "python",
   "pygments_lexer": "ipython3",
   "version": "3.10.8"
  },
  "vscode": {
   "interpreter": {
    "hash": "351916a5f5b0b06d95a3f2bbd74a099d4c088b9a5b67df841135599309f03d3a"
   }
  }
 },
 "nbformat": 4,
 "nbformat_minor": 5
}
