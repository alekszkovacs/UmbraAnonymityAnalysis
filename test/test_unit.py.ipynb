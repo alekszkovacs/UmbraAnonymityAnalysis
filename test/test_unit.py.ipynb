{
 "cells": [
  {
   "cell_type": "code",
   "execution_count": 14,
   "id": "6d99f57e",
   "metadata": {},
   "outputs": [],
   "source": [
    "#network = \"mainnet\"\n",
    "#network = \"polygon\"\n",
    "network = \"optimism\"\n",
    "\n",
    "import sys\n",
    "import json\n",
    "from collections import Counter\n",
    "sys.path.append('../')\n",
    "\n",
    "from src.helper import FunctionName as fn\n",
    "from src.statistics import statistics\n",
    "\n",
    "umbra_contract_txs_json = f\"../data/{network}/umbra_contract_txs.json\"\n",
    "skr_contract_txs_json = f\"../data/{network}/skr_contract_txs.json\"\n",
    "\n",
    "with open(umbra_contract_txs_json, \"r\") as file:\n",
    "    data = json.load(file)\n",
    "\n",
    "with open(skr_contract_txs_json, \"r\") as file:\n",
    "    skr_data = json.load(file)\n",
    "\n",
    "contract_txs = data[\"result\"]\n",
    "skr_contract_txs = skr_data[\"result\"]"
   ]
  },
  {
   "cell_type": "code",
   "execution_count": 15,
   "id": "525cbaf2",
   "metadata": {},
   "outputs": [
    {
     "name": "stdout",
     "output_type": "stream",
     "text": [
      "19\n",
      "15963\n"
     ]
    }
   ],
   "source": [
    "big1 = 0\n",
    "\n",
    "for d in contract_txs.copy():\n",
    "    if d[\"functionName\"] == fn.S_ETH.value:\n",
    "        stealth = d[d[\"functionName\"]][\"_receiver\"]\n",
    "        if len(d[d[\"functionName\"]][stealth]) > 1:\n",
    "            big1 += 1\n",
    "            contract_txs.remove(d)\n",
    "\n",
    "all_stealths = set()\n",
    "for d in contract_txs:\n",
    "    # Search only for sendEth() and sendToken() bacause including withdrawToken() would be redundant.\n",
    "    if d[\"functionName\"] == fn.W_TOKEN.value:\n",
    "        continue\n",
    "\n",
    "    stealth = d[d[\"functionName\"]][\"_receiver\"]\n",
    "    all_stealths.add(stealth)\n",
    "    \n",
    "print(big1)\n",
    "print(len(all_stealths))"
   ]
  },
  {
   "cell_type": "code",
   "execution_count": null,
   "id": "fa7cf203",
   "metadata": {},
   "outputs": [],
   "source": []
  }
 ],
 "metadata": {
  "kernelspec": {
   "display_name": "Python 3 (ipykernel)",
   "language": "python",
   "name": "python3"
  },
  "language_info": {
   "codemirror_mode": {
    "name": "ipython",
    "version": 3
   },
   "file_extension": ".py",
   "mimetype": "text/x-python",
   "name": "python",
   "nbconvert_exporter": "python",
   "pygments_lexer": "ipython3",
   "version": "3.10.6"
  }
 },
 "nbformat": 4,
 "nbformat_minor": 5
}
